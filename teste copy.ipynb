{
 "cells": [
  {
   "cell_type": "markdown",
   "metadata": {},
   "source": []
  },
  {
   "cell_type": "code",
   "execution_count": null,
   "metadata": {},
   "outputs": [],
   "source": [
    "import requests\n",
    "import pyodbc"
   ]
  },
  {
   "cell_type": "markdown",
   "metadata": {},
   "source": [
    "Consumir dados API RESTrack\n"
   ]
  },
  {
   "cell_type": "code",
   "execution_count": 15,
   "metadata": {},
   "outputs": [
    {
     "ename": "NameError",
     "evalue": "name 'requests' is not defined",
     "output_type": "error",
     "traceback": [
      "\u001b[1;31m---------------------------------------------------------------------------\u001b[0m",
      "\u001b[1;31mNameError\u001b[0m                                 Traceback (most recent call last)",
      "Cell \u001b[1;32mIn[15], line 3\u001b[0m\n\u001b[0;32m      1\u001b[0m url \u001b[38;5;241m=\u001b[39m \u001b[38;5;124m\"\u001b[39m\u001b[38;5;124mhttps://ws.fulltrack2.com/events/all/apiKey/daaaf648667667240bafbd1c1bce713a694ee8b4/secretKey/b4b6aa652445542bf62b49e7f6aa0c9cad06c7e8\u001b[39m\u001b[38;5;124m\"\u001b[39m\n\u001b[1;32m----> 3\u001b[0m response \u001b[38;5;241m=\u001b[39m \u001b[43mrequests\u001b[49m\u001b[38;5;241m.\u001b[39mget(url)\n\u001b[0;32m      5\u001b[0m \u001b[38;5;28;01mif\u001b[39;00m response\u001b[38;5;241m.\u001b[39mstatus_code \u001b[38;5;241m==\u001b[39m \u001b[38;5;241m200\u001b[39m:\n\u001b[0;32m      6\u001b[0m     data \u001b[38;5;241m=\u001b[39m response\u001b[38;5;241m.\u001b[39mjson()  \u001b[38;5;66;03m# Converter a resposta para JSON\u001b[39;00m\n",
      "\u001b[1;31mNameError\u001b[0m: name 'requests' is not defined"
     ]
    }
   ],
   "source": [
    "url = \"https://ws.fulltrack2.com/events/all/apiKey/daaaf648667667240bafbd1c1bce713a694ee8b4/secretKey/b4b6aa652445542bf62b49e7f6aa0c9cad06c7e8\"\n",
    "\n",
    "response = requests.get(url)\n",
    "\n",
    "if response.status_code == 200:\n",
    "    data = response.json()  # Converter a resposta para JSON\n",
    "\n",
    "    # Verificar se existe a chave \"data\" e se é uma lista\n",
    "    if \"data\" in data and isinstance(data[\"data\"], list):\n",
    "        resultado = []  # Lista para armazenar os dados filtrados\n",
    "\n",
    "        # Iterar sobre todos os veículos \n",
    "        for item in data[\"data\"]:\n",
    "            resultado.append({\n",
    "                \"ras_eve_latitude\": item.get(\"ras_eve_latitude\", \"\"),\n",
    "                \"ras_eve_longitude\": item.get(\"ras_eve_longitude\", \"\"),\n",
    "                \"ras_eve_data_gps\": item.get(\"ras_eve_data_gps\", \"\"),\n",
    "                \"ras_ras_data_ult_comunicacao\": item.get(\"ras_ras_data_ult_comunicacao\", \"\"),\n",
    "                \"ras_vei_placa\": item.get(\"ras_vei_placa\", \"\"),\n",
    "                \"ras_vei_veiculo\": item.get(\"ras_vei_veiculo\", \"\")\n",
    "            })\n",
    "\n",
    " \n",
    "else:\n",
    "    print(f\"Erro na requisição: {response.status_code}\")"
   ]
  },
  {
   "cell_type": "markdown",
   "metadata": {},
   "source": [
    "Parametros para conexão\n"
   ]
  },
  {
   "cell_type": "code",
   "execution_count": 12,
   "metadata": {},
   "outputs": [
    {
     "name": "stdout",
     "output_type": "stream",
     "text": [
      "Conexão bem-sucedida!\n"
     ]
    }
   ],
   "source": [
    "\n",
    "def conecta_ao_banco(driver='{SQL Server Native Client 11.0}', server='SRV-BI', port='59766', database='SIGIDA', username='sa', password='SnlS3@123'):\n",
    "    try:\n",
    "        conn = pyodbc.connect(\n",
    "            driver=driver,\n",
    "            server=f'{server},{port}',  # Inclui a porta na conexão\n",
    "            database=database,\n",
    "            uid=username,\n",
    "            pwd=password,\n",
    "        )\n",
    "        print(\"Conexão bem-sucedida!\")\n",
    "        return conn\n",
    "    except Exception as e:\n",
    "        print(\"Erro ao conectar ao banco de dados:\", e)\n",
    "\n",
    "# Teste a conexão\n",
    "conexao = conecta_ao_banco()\n"
   ]
  },
  {
   "cell_type": "markdown",
   "metadata": {},
   "source": [
    "Query banco de dados\n"
   ]
  },
  {
   "cell_type": "markdown",
   "metadata": {},
   "source": []
  },
  {
   "cell_type": "code",
   "execution_count": null,
   "metadata": {},
   "outputs": [],
   "source": []
  }
 ],
 "metadata": {
  "kernelspec": {
   "display_name": "venv",
   "language": "python",
   "name": "python3"
  },
  "language_info": {
   "codemirror_mode": {
    "name": "ipython",
    "version": 3
   },
   "file_extension": ".py",
   "mimetype": "text/x-python",
   "name": "python",
   "nbconvert_exporter": "python",
   "pygments_lexer": "ipython3",
   "version": "3.13.2"
  }
 },
 "nbformat": 4,
 "nbformat_minor": 2
}
